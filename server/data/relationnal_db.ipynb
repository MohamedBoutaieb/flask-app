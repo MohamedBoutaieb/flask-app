{
 "cells": [
  {
   "cell_type": "code",
   "execution_count": 36,
   "metadata": {},
   "outputs": [],
   "source": [
    "import pandas as pd\n",
    "import mysql.connector"
   ]
  },
  {
   "cell_type": "code",
   "execution_count": 37,
   "metadata": {},
   "outputs": [],
   "source": [
    "df = pd.read_csv(\"data_cleaned.csv\")"
   ]
  },
  {
   "cell_type": "code",
   "execution_count": 38,
   "metadata": {},
   "outputs": [],
   "source": [
    "# MySQL connection parameters\n",
    "config = {\n",
    "    'user': 'root',\n",
    "    'password': '1234',\n",
    "    'host': 'localhost',\n",
    "    'database': 'veh',\n",
    "    'raise_on_warnings': True\n",
    "}"
   ]
  },
  {
   "cell_type": "code",
   "execution_count": 39,
   "metadata": {},
   "outputs": [],
   "source": [
    "conn = mysql.connector.connect(**config)\n",
    "cursor = conn.cursor()"
   ]
  },
  {
   "cell_type": "code",
   "execution_count": 40,
   "metadata": {},
   "outputs": [
    {
     "name": "stdout",
     "output_type": "stream",
     "text": [
      "k\n"
     ]
    }
   ],
   "source": [
    "for i, row in df.iterrows():\n",
    "    try:\n",
    "        sql = '''INSERT INTO vehicule (id, name, year, selling_price, km_driven, fuel, seller_type, transmission, mileage, engine, max_power, seats)\n",
    "                 VALUES (%s, %s, %s, %s, %s, %s, %s, %s, %s, %s, %s, %s)'''\n",
    "        cursor.execute(sql, tuple([i] + list(row)))\n",
    "    except :\n",
    "        print(\"k\")\n",
    "        pass"
   ]
  },
  {
   "cell_type": "code",
   "execution_count": null,
   "metadata": {},
   "outputs": [],
   "source": [
    "conn.commit()"
   ]
  }
 ],
 "metadata": {
  "kernelspec": {
   "display_name": "Python 3",
   "language": "python",
   "name": "python3"
  },
  "language_info": {
   "codemirror_mode": {
    "name": "ipython",
    "version": 3
   },
   "file_extension": ".py",
   "mimetype": "text/x-python",
   "name": "python",
   "nbconvert_exporter": "python",
   "pygments_lexer": "ipython3",
   "version": "3.11.3"
  },
  "orig_nbformat": 4
 },
 "nbformat": 4,
 "nbformat_minor": 2
}
