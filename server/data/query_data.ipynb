{
 "cells": [
  {
   "cell_type": "code",
   "execution_count": 266,
   "metadata": {},
   "outputs": [],
   "source": [
    "import redis\n",
    "from redis.commands.search.query import Query\n",
    "import pandas as pd\n",
    "import numpy as np\n",
    "from sklearn.preprocessing import StandardScaler, OrdinalEncoder\n",
    "import pickle\n",
    "import mysql.connector"
   ]
  },
  {
   "cell_type": "code",
   "execution_count": 267,
   "metadata": {},
   "outputs": [],
   "source": [
    "df = pd.read_csv(\"data_cleaned.csv\")"
   ]
  },
  {
   "cell_type": "code",
   "execution_count": 268,
   "metadata": {},
   "outputs": [],
   "source": [
    "with open('scaler.pkl','rb') as f:\n",
    "    sc : StandardScaler = pickle.load(f)\n",
    "with open('ordinal.pkl','rb') as f:\n",
    "    oe : OrdinalEncoder = pickle.load(f)"
   ]
  },
  {
   "cell_type": "code",
   "execution_count": 269,
   "metadata": {},
   "outputs": [],
   "source": [
    "r = redis.Redis(\n",
    "  host='localhost',\n",
    "  port=6379)"
   ]
  },
  {
   "cell_type": "code",
   "execution_count": 270,
   "metadata": {},
   "outputs": [],
   "source": [
    "def list_to_binary_floats(float_list):\n",
    "    \"\"\"Converts a list of floats into a packed binary representation.\"\"\"\n",
    "    return np.array(float_list, dtype=np.float32).tobytes()"
   ]
  },
  {
   "cell_type": "code",
   "execution_count": 271,
   "metadata": {},
   "outputs": [],
   "source": [
    "def preprocess(query : dict):\n",
    "    qq = pd.DataFrame([query])\n",
    "    columns_to_categorize = ['fuel','seller_type','transmission']\n",
    "    columns_to_scale = ['year', 'selling_price', 'km_driven', 'fuel','mileage','engine','max_power','seats','fuel','seller_type','transmission']\n",
    "    qq[columns_to_categorize] = oe.transform(qq[columns_to_categorize])\n",
    "    qq[columns_to_scale] = sc.transform(qq[columns_to_scale])\n",
    "    return qq.iloc[0,:]"
   ]
  },
  {
   "cell_type": "code",
   "execution_count": 272,
   "metadata": {},
   "outputs": [],
   "source": [
    "# function to perform a redis search, taking in a list of floats as input\n",
    "def redis_search(query):\n",
    "    \n",
    "    float_list = list_to_binary_floats(preprocess(query))\n",
    "\n",
    "    query = (\n",
    "        Query(\"*=>[KNN 5 @vector $vec as score]\")\n",
    "        .sort_by(\"score\")\n",
    "        .return_fields(\"score\")\n",
    "        .paging(0, 5)\n",
    "        .dialect(2)\n",
    "    )\n",
    "\n",
    "    query_params = {\n",
    "        \"vec\": float_list\n",
    "    }\n",
    "    \n",
    "    return r.ft(\"idx1\").search(query, query_params).docs"
   ]
  },
  {
   "cell_type": "code",
   "execution_count": 273,
   "metadata": {},
   "outputs": [],
   "source": [
    "# MySQL connection parameters\n",
    "config = {\n",
    "    'user': 'root',\n",
    "    'password': '1234',\n",
    "    'host': 'localhost',\n",
    "    'database': 'veh',\n",
    "    'port':'3306'\n",
    "}\n",
    "\n",
    "conn = mysql.connector.connect(**config)\n",
    "cursor = conn.cursor()"
   ]
  },
  {
   "cell_type": "code",
   "execution_count": 274,
   "metadata": {},
   "outputs": [
    {
     "name": "stdout",
     "output_type": "stream",
     "text": [
      "Error: 1050 (42S01): Table 'vehicule' already exists\n"
     ]
    }
   ],
   "source": [
    "create_table_query = \"\"\"\n",
    "CREATE TABLE `vehicule` (\n",
    "    `id` INT(10) NULL DEFAULT NULL,\n",
    "    `name` TEXT NULL DEFAULT NULL COLLATE 'utf8mb4_0900_ai_ci',\n",
    "    `year` YEAR NULL DEFAULT NULL,\n",
    "    `selling_price` INT(10) NULL DEFAULT NULL,\n",
    "    `km_driven` INT(10) NULL DEFAULT NULL,\n",
    "    `fuel` TINYTEXT NULL DEFAULT NULL COLLATE 'utf8mb4_0900_ai_ci',\n",
    "    `seller_type` TINYTEXT NULL DEFAULT NULL COLLATE 'utf8mb4_0900_ai_ci',\n",
    "    `transmission` TINYTEXT NULL DEFAULT NULL COLLATE 'utf8mb4_0900_ai_ci',\n",
    "    `mileage` FLOAT NULL DEFAULT NULL,\n",
    "    `engine` SMALLINT(5) NULL DEFAULT NULL,\n",
    "    `max_power` SMALLINT(5) NULL DEFAULT NULL,\n",
    "    `seats` TINYINT(3) NULL DEFAULT NULL\n",
    ")\n",
    "COLLATE='utf8mb4_0900_ai_ci'\n",
    "ENGINE=InnoDB\n",
    ";\n",
    "\"\"\"\n",
    "# Execute the SQL query\n",
    "try:\n",
    "    cursor.execute(create_table_query)\n",
    "    print(\"Table 'vehicule' created successfully\")\n",
    "except mysql.connector.Error as err:\n",
    "    print(f\"Error: {err}\")"
   ]
  },
  {
   "cell_type": "code",
   "execution_count": 275,
   "metadata": {},
   "outputs": [],
   "source": [
    "query = \\\n",
    "{\n",
    "    \"year\": 2020,\n",
    "    \"selling_price\": 5500,\n",
    "    \"km_driven\": 50000,\n",
    "    \"fuel\": \"Petrol\",\n",
    "    \"seller_type\": \"Individual\",\n",
    "    \"transmission\": \"Automatic\",\n",
    "    \"mileage\": 4,\n",
    "    \"engine\": 2000,\n",
    "    \"max_power\": 115.00,\n",
    "    \"seats\": 5.0\n",
    "}\n"
   ]
  },
  {
   "cell_type": "code",
   "execution_count": 276,
   "metadata": {},
   "outputs": [],
   "source": [
    "res = redis_search(query)"
   ]
  },
  {
   "cell_type": "code",
   "execution_count": 277,
   "metadata": {},
   "outputs": [
    {
     "name": "stdout",
     "output_type": "stream",
     "text": [
      "5198\n"
     ]
    }
   ],
   "source": [
    "print(res[0][\"id\"].split(\":\")[1])"
   ]
  },
  {
   "cell_type": "code",
   "execution_count": 278,
   "metadata": {},
   "outputs": [
    {
     "name": "stdout",
     "output_type": "stream",
     "text": [
      "(5198, 'Maruti Vitara Brezza ZXI Plus AT Dual Tone', 2020, 16213, 10000, 'Petrol', 'Individual', 'Automatic', 5.33, 1462, 103, 5)\n",
      "(1434, 'Tata Tiago 1.2 Revotron XZA', 2019, 12100, 30000, 'Petrol', 'Individual', 'Automatic', 4.19, 1199, 84, 5)\n",
      "(2156, 'Hyundai i20 1.4 Magna AT', 2018, 15400, 42000, 'Petrol', 'Individual', 'Automatic', 5.38, 1368, 99, 5)\n",
      "(4313, 'Hyundai i20 1.4 Magna AT', 2018, 14762, 20000, 'Petrol', 'Individual', 'Automatic', 5.38, 1368, 99, 5)\n",
      "(1501, 'Tata Tiago 1.2 Revotron XZA', 2019, 11550, 9200, 'Petrol', 'Individual', 'Automatic', 4.19, 1199, 84, 5)\n"
     ]
    }
   ],
   "source": [
    "for vid in res:\n",
    "    # Parameterized query to prevent SQL injection\n",
    "    sql = \"SELECT * FROM vehicule WHERE id = %s\"\n",
    "    # Assuming vid['id'].split(':')[1] results in the correct ID\n",
    "    id_value = vid['id'].split(':')[1]\n",
    "    \n",
    "    cursor.execute(sql, (id_value,))\n",
    "    \n",
    "    # Fetching the result\n",
    "    t = cursor.fetchone()\n",
    "    \n",
    "    print(t)\n"
   ]
  },
  {
   "cell_type": "code",
   "execution_count": 279,
   "metadata": {},
   "outputs": [],
   "source": [
    "class DataManager:\n",
    "    def __init__(self,host : str = \"localhost\", port : int = 6379) -> None:\n",
    "        with open('scaler.pkl','rb') as f:\n",
    "            self.sc : StandardScaler = pickle.load(f)\n",
    "        with open('ordinal.pkl','rb') as f:\n",
    "            self.oe : OrdinalEncoder = pickle.load(f)\n",
    "\n",
    "        self.r = redis.Redis(\n",
    "            host=host,\n",
    "            port=port)\n",
    "        \n",
    "        # MySQL connection parameters\n",
    "        config = {\n",
    "            'user': 'root',\n",
    "            'password': '1234',\n",
    "            'host': 'localhost',\n",
    "            'database': 'veh',\n",
    "            'raise_on_warnings': True\n",
    "        }\n",
    "\n",
    "        self.conn = mysql.connector.connect(**config)\n",
    "        self.cursor = self.conn.cursor()\n",
    "    \n",
    "    def query(self,query_dict : dict):\n",
    "        res_list = self.redis_search(query_dict)\n",
    "        return self.db_result_query(res_list)\n",
    "    \n",
    "    def preprocess(self, query : dict):\n",
    "        qq = pd.DataFrame([query])\n",
    "        columns_to_categorize = ['fuel','seller_type','transmission']\n",
    "        columns_to_scale = ['year', 'selling_price', 'km_driven', 'fuel','mileage','engine','max_power','seats','fuel','seller_type','transmission']\n",
    "        qq[columns_to_categorize] = self.oe.transform(qq[columns_to_categorize])\n",
    "        qq[columns_to_scale] = self.sc.transform(qq[columns_to_scale])\n",
    "        return qq.iloc[0,:]\n",
    "    \n",
    "    # function to perform a redis search, taking in a list of floats as input\n",
    "    def redis_search(self,query : dict):\n",
    "        float_list = list_to_binary_floats(self.preprocess(query))\n",
    "\n",
    "        query = (\n",
    "            Query(\"*=>[KNN 5 @vector $vec as score]\")\n",
    "            .sort_by(\"score\")\n",
    "            .return_fields(\"score\")\n",
    "            .paging(0, 5)\n",
    "            .dialect(2)\n",
    "        )\n",
    "\n",
    "        query_params = {\n",
    "            \"vec\": float_list\n",
    "        }\n",
    "        \n",
    "        return self.r.ft(\"idx1\").search(query, query_params).docs\n",
    "        \n",
    "\n",
    "    def db_result_query(self,redis_response_list):\n",
    "        res = []\n",
    "        for vid in redis_response_list:\n",
    "            # Parameterized query to prevent SQL injection\n",
    "            sql = \"SELECT * FROM vehicule WHERE id = %s\"\n",
    "            id_value = vid['id'].split(':')[1]\n",
    "            \n",
    "            self.cursor.execute(sql, (id_value,))\n",
    "            \n",
    "            # Fetching the result\n",
    "            res.append(self.cursor.fetchone())\n",
    "        return res\n"
   ]
  },
  {
   "cell_type": "code",
   "execution_count": 280,
   "metadata": {},
   "outputs": [],
   "source": [
    "dm = DataManager()"
   ]
  },
  {
   "cell_type": "code",
   "execution_count": 281,
   "metadata": {},
   "outputs": [
    {
     "name": "stdout",
     "output_type": "stream",
     "text": [
      "[(5198, 'Maruti Vitara Brezza ZXI Plus AT Dual Tone', 2020, 16213, 10000, 'Petrol', 'Individual', 'Automatic', 5.33, 1462, 103, 5), (1434, 'Tata Tiago 1.2 Revotron XZA', 2019, 12100, 30000, 'Petrol', 'Individual', 'Automatic', 4.19, 1199, 84, 5), (2156, 'Hyundai i20 1.4 Magna AT', 2018, 15400, 42000, 'Petrol', 'Individual', 'Automatic', 5.38, 1368, 99, 5), (4313, 'Hyundai i20 1.4 Magna AT', 2018, 14762, 20000, 'Petrol', 'Individual', 'Automatic', 5.38, 1368, 99, 5), (1501, 'Tata Tiago 1.2 Revotron XZA', 2019, 11550, 9200, 'Petrol', 'Individual', 'Automatic', 4.19, 1199, 84, 5)]\n"
     ]
    }
   ],
   "source": [
    "print(dm.query(query))"
   ]
  }
 ],
 "metadata": {
  "kernelspec": {
   "display_name": "Python 3",
   "language": "python",
   "name": "python3"
  },
  "language_info": {
   "codemirror_mode": {
    "name": "ipython",
    "version": 3
   },
   "file_extension": ".py",
   "mimetype": "text/x-python",
   "name": "python",
   "nbconvert_exporter": "python",
   "pygments_lexer": "ipython3",
   "version": "3.11.3"
  },
  "orig_nbformat": 4
 },
 "nbformat": 4,
 "nbformat_minor": 2
}
