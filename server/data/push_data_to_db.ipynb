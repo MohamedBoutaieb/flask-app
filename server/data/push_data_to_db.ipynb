{
 "cells": [
  {
   "cell_type": "code",
   "execution_count": 43,
   "metadata": {},
   "outputs": [],
   "source": [
    "import redis\n",
    "from redis.commands.search.query import Query\n",
    "import pandas as pd\n",
    "import numpy as np\n",
    "from sklearn.preprocessing import StandardScaler, OrdinalEncoder\n",
    "import pickle"
   ]
  },
  {
   "cell_type": "code",
   "execution_count": 44,
   "metadata": {},
   "outputs": [],
   "source": [
    "df = pd.read_csv(\"data_cleaned.csv\")"
   ]
  },
  {
   "cell_type": "code",
   "execution_count": 45,
   "metadata": {},
   "outputs": [
    {
     "data": {
      "text/html": [
       "<div>\n",
       "<style scoped>\n",
       "    .dataframe tbody tr th:only-of-type {\n",
       "        vertical-align: middle;\n",
       "    }\n",
       "\n",
       "    .dataframe tbody tr th {\n",
       "        vertical-align: top;\n",
       "    }\n",
       "\n",
       "    .dataframe thead th {\n",
       "        text-align: right;\n",
       "    }\n",
       "</style>\n",
       "<table border=\"1\" class=\"dataframe\">\n",
       "  <thead>\n",
       "    <tr style=\"text-align: right;\">\n",
       "      <th></th>\n",
       "      <th>name</th>\n",
       "      <th>year</th>\n",
       "      <th>selling_price</th>\n",
       "      <th>km_driven</th>\n",
       "      <th>fuel</th>\n",
       "      <th>seller_type</th>\n",
       "      <th>transmission</th>\n",
       "      <th>mileage</th>\n",
       "      <th>engine</th>\n",
       "      <th>max_power</th>\n",
       "      <th>seats</th>\n",
       "    </tr>\n",
       "  </thead>\n",
       "  <tbody>\n",
       "    <tr>\n",
       "      <th>0</th>\n",
       "      <td>Maruti Swift Dzire VDI</td>\n",
       "      <td>2014</td>\n",
       "      <td>9900</td>\n",
       "      <td>145500</td>\n",
       "      <td>Diesel</td>\n",
       "      <td>Individual</td>\n",
       "      <td>Manual</td>\n",
       "      <td>4.27</td>\n",
       "      <td>1248.0</td>\n",
       "      <td>74.00</td>\n",
       "      <td>5.0</td>\n",
       "    </tr>\n",
       "    <tr>\n",
       "      <th>1</th>\n",
       "      <td>Skoda Rapid 1.5 TDI Ambition</td>\n",
       "      <td>2014</td>\n",
       "      <td>8140</td>\n",
       "      <td>120000</td>\n",
       "      <td>Diesel</td>\n",
       "      <td>Individual</td>\n",
       "      <td>Manual</td>\n",
       "      <td>4.73</td>\n",
       "      <td>1498.0</td>\n",
       "      <td>103.52</td>\n",
       "      <td>5.0</td>\n",
       "    </tr>\n",
       "    <tr>\n",
       "      <th>2</th>\n",
       "      <td>Honda City 2017-2020 EXi</td>\n",
       "      <td>2006</td>\n",
       "      <td>3476</td>\n",
       "      <td>140000</td>\n",
       "      <td>Petrol</td>\n",
       "      <td>Individual</td>\n",
       "      <td>Manual</td>\n",
       "      <td>5.65</td>\n",
       "      <td>1497.0</td>\n",
       "      <td>78.00</td>\n",
       "      <td>5.0</td>\n",
       "    </tr>\n",
       "  </tbody>\n",
       "</table>\n",
       "</div>"
      ],
      "text/plain": [
       "                           name  year  selling_price  km_driven    fuel   \n",
       "0        Maruti Swift Dzire VDI  2014           9900     145500  Diesel  \\\n",
       "1  Skoda Rapid 1.5 TDI Ambition  2014           8140     120000  Diesel   \n",
       "2      Honda City 2017-2020 EXi  2006           3476     140000  Petrol   \n",
       "\n",
       "  seller_type transmission  mileage  engine  max_power  seats  \n",
       "0  Individual       Manual     4.27  1248.0      74.00    5.0  \n",
       "1  Individual       Manual     4.73  1498.0     103.52    5.0  \n",
       "2  Individual       Manual     5.65  1497.0      78.00    5.0  "
      ]
     },
     "execution_count": 45,
     "metadata": {},
     "output_type": "execute_result"
    }
   ],
   "source": [
    "df.head(3)"
   ]
  },
  {
   "cell_type": "code",
   "execution_count": 46,
   "metadata": {},
   "outputs": [],
   "source": [
    "def preprocess_dataframe(df):\n",
    "    # Make a copy of the dataframe to avoid modifying the original\n",
    "    df_copy = df.copy()\n",
    "\n",
    "    # Define the columns to be scaled\n",
    "    columns_to_scale = ['year', 'selling_price', 'km_driven', 'fuel','mileage','engine','max_power','seats','fuel','seller_type','transmission']\n",
    "    columns_to_categorize = ['fuel','seller_type','transmission']\n",
    "\n",
    "    # Encode the 'fuel' column\n",
    "    oe = OrdinalEncoder()\n",
    "    df_copy[columns_to_categorize] = oe.fit_transform(df_copy[columns_to_categorize])\n",
    "\n",
    "\n",
    "    # Standard scale the columns\n",
    "    scaler = StandardScaler()\n",
    "    df_copy[columns_to_scale] = scaler.fit_transform(df_copy[columns_to_scale])\n",
    "\n",
    "    return df_copy, scaler, oe"
   ]
  },
  {
   "cell_type": "code",
   "execution_count": 47,
   "metadata": {},
   "outputs": [],
   "source": [
    "df2, sc, oe = preprocess_dataframe(df)"
   ]
  },
  {
   "cell_type": "code",
   "execution_count": 48,
   "metadata": {},
   "outputs": [],
   "source": [
    "with open('scaler.pkl','wb') as f:\n",
    "    pickle.dump(sc,f)\n",
    "with open('ordinal.pkl','wb') as f:\n",
    "    pickle.dump(oe,f)"
   ]
  },
  {
   "cell_type": "code",
   "execution_count": 49,
   "metadata": {},
   "outputs": [],
   "source": [
    "df2[\"vec\"] = df2.apply(lambda x : list(x[1:]), axis=1)"
   ]
  },
  {
   "cell_type": "code",
   "execution_count": 50,
   "metadata": {},
   "outputs": [],
   "source": [
    "def list_to_binary_floats(float_list):\n",
    "    \"\"\"Converts a list of floats into a packed binary representation.\"\"\"\n",
    "    return np.array(float_list, dtype=np.float32).tobytes()"
   ]
  },
  {
   "cell_type": "code",
   "execution_count": 51,
   "metadata": {},
   "outputs": [],
   "source": [
    "r = redis.Redis(\n",
    "  host='localhost',\n",
    "  port=6379)"
   ]
  },
  {
   "cell_type": "code",
   "execution_count": 52,
   "metadata": {},
   "outputs": [
    {
     "data": {
      "text/plain": [
       "0       [0.004612112992954618, -0.24552897324943504, 1...\n",
       "1       [0.004612112992954618, -0.34386886220197804, 0...\n",
       "2       [-2.0644929897245996, -0.6044695679262171, 1.2...\n",
       "3       [-1.0299404383658226, -0.5221099109284623, 1.0...\n",
       "4       [-1.8058548518849054, -0.6388885290596071, 0.8...\n",
       "                              ...                        \n",
       "7902    [-0.2540260248467397, -0.40533129279731744, 0....\n",
       "7903    [-1.8058548518849054, -0.6327422860000732, 0.8...\n",
       "7904    [-1.2885785762055169, -0.3291178788590966, 0.8...\n",
       "7905    [-0.2540260248467397, -0.4422087511545211, -0....\n",
       "7906    [-0.2540260248467397, -0.4422087511545211, -0....\n",
       "Name: vec, Length: 7907, dtype: object"
      ]
     },
     "execution_count": 52,
     "metadata": {},
     "output_type": "execute_result"
    }
   ],
   "source": [
    "df2.vec"
   ]
  },
  {
   "cell_type": "code",
   "execution_count": 53,
   "metadata": {},
   "outputs": [],
   "source": [
    "for i,row in df2.iterrows():\n",
    "    r.hset(f\"vehicule:{i}\", mapping={\"vector\":list_to_binary_floats(row['vec'])})"
   ]
  },
  {
   "cell_type": "code",
   "execution_count": 54,
   "metadata": {},
   "outputs": [],
   "source": [
    "# function to perform a redis search, taking in a list of floats as input\n",
    "def redis_search(float_list):\n",
    "    float_list = list_to_binary_floats(float_list)\n",
    "\n",
    "    query = (\n",
    "        Query(\"*=>[KNN 2 @vector $vec as score]\")\n",
    "        .sort_by(\"score\")\n",
    "        .return_fields(\"score\")\n",
    "        .paging(0, 5)\n",
    "        .dialect(2)\n",
    "    )\n",
    "\n",
    "    query_params = {\n",
    "        \"vec\": float_list\n",
    "    }\n",
    "    \n",
    "    return r.ft(\"idx1\").search(query, query_params).docs"
   ]
  },
  {
   "cell_type": "code",
   "execution_count": 55,
   "metadata": {},
   "outputs": [
    {
     "data": {
      "text/plain": [
       "[Document {'id': 'vehicule:1127', 'payload': None, 'score': '0'},\n",
       " Document {'id': 'vehicule:6618', 'payload': None, 'score': '7.61151313782e-05'}]"
      ]
     },
     "execution_count": 55,
     "metadata": {},
     "output_type": "execute_result"
    }
   ],
   "source": [
    "redis_search(df2.iloc[1127,-1])"
   ]
  },
  {
   "cell_type": "code",
   "execution_count": 56,
   "metadata": {},
   "outputs": [
    {
     "name": "stdout",
     "output_type": "stream",
     "text": [
      "name             Renault KWID RXT Optional\n",
      "year                                  2016\n",
      "selling_price                         6820\n",
      "km_driven                            11500\n",
      "fuel                                Petrol\n",
      "seller_type                     Individual\n",
      "transmission                        Manual\n",
      "mileage                               3.97\n",
      "engine                               799.0\n",
      "max_power                             53.3\n",
      "seats                                  5.0\n",
      "Name: 1127, dtype: object\n",
      "-------------------\n",
      "name             Renault KWID RXT\n",
      "year                         2016\n",
      "selling_price                6380\n",
      "km_driven                   10000\n",
      "fuel                       Petrol\n",
      "seller_type            Individual\n",
      "transmission               Manual\n",
      "mileage                      3.97\n",
      "engine                      799.0\n",
      "max_power                    53.3\n",
      "seats                         5.0\n",
      "Name: 6618, dtype: object\n"
     ]
    }
   ],
   "source": [
    "print(df.iloc[1127,:])\n",
    "print(\"-------------------\")\n",
    "print(df.iloc[6618,:])"
   ]
  }
 ],
 "metadata": {
  "kernelspec": {
   "display_name": "Python 3",
   "language": "python",
   "name": "python3"
  },
  "language_info": {
   "codemirror_mode": {
    "name": "ipython",
    "version": 3
   },
   "file_extension": ".py",
   "mimetype": "text/x-python",
   "name": "python",
   "nbconvert_exporter": "python",
   "pygments_lexer": "ipython3",
   "version": "3.11.3"
  },
  "orig_nbformat": 4
 },
 "nbformat": 4,
 "nbformat_minor": 2
}
