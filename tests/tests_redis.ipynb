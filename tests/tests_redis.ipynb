{
 "cells": [
  {
   "cell_type": "code",
   "execution_count": 7,
   "metadata": {},
   "outputs": [],
   "source": [
    "import redis\n",
    "from redis.commands.search.query import Query\n",
    "import pandas as pd\n",
    "import numpy as np\n",
    "import struct, ast\n",
    "from sklearn.preprocessing import StandardScaler, LabelEncoder"
   ]
  },
  {
   "cell_type": "code",
   "execution_count": 2,
   "metadata": {},
   "outputs": [],
   "source": [
    "df = pd.read_csv(\"embeds_test.csv\")"
   ]
  },
  {
   "cell_type": "code",
   "execution_count": 3,
   "metadata": {},
   "outputs": [],
   "source": [
    "df.drop([\"embeds\"], axis=1, inplace=True)"
   ]
  },
  {
   "cell_type": "code",
   "execution_count": 4,
   "metadata": {},
   "outputs": [
    {
     "data": {
      "text/html": [
       "<div>\n",
       "<style scoped>\n",
       "    .dataframe tbody tr th:only-of-type {\n",
       "        vertical-align: middle;\n",
       "    }\n",
       "\n",
       "    .dataframe tbody tr th {\n",
       "        vertical-align: top;\n",
       "    }\n",
       "\n",
       "    .dataframe thead th {\n",
       "        text-align: right;\n",
       "    }\n",
       "</style>\n",
       "<table border=\"1\" class=\"dataframe\">\n",
       "  <thead>\n",
       "    <tr style=\"text-align: right;\">\n",
       "      <th></th>\n",
       "      <th>name</th>\n",
       "      <th>year</th>\n",
       "      <th>selling_price</th>\n",
       "      <th>km_driven</th>\n",
       "      <th>fuel</th>\n",
       "    </tr>\n",
       "  </thead>\n",
       "  <tbody>\n",
       "    <tr>\n",
       "      <th>0</th>\n",
       "      <td>Maruti Swift Dzire VDI</td>\n",
       "      <td>2014</td>\n",
       "      <td>450000</td>\n",
       "      <td>145500</td>\n",
       "      <td>Diesel</td>\n",
       "    </tr>\n",
       "    <tr>\n",
       "      <th>1</th>\n",
       "      <td>Skoda Rapid 1.5 TDI Ambition</td>\n",
       "      <td>2014</td>\n",
       "      <td>370000</td>\n",
       "      <td>120000</td>\n",
       "      <td>Diesel</td>\n",
       "    </tr>\n",
       "    <tr>\n",
       "      <th>2</th>\n",
       "      <td>Honda City 2017-2020 EXi</td>\n",
       "      <td>2006</td>\n",
       "      <td>158000</td>\n",
       "      <td>140000</td>\n",
       "      <td>Petrol</td>\n",
       "    </tr>\n",
       "  </tbody>\n",
       "</table>\n",
       "</div>"
      ],
      "text/plain": [
       "                           name  year  selling_price  km_driven    fuel\n",
       "0        Maruti Swift Dzire VDI  2014         450000     145500  Diesel\n",
       "1  Skoda Rapid 1.5 TDI Ambition  2014         370000     120000  Diesel\n",
       "2      Honda City 2017-2020 EXi  2006         158000     140000  Petrol"
      ]
     },
     "execution_count": 4,
     "metadata": {},
     "output_type": "execute_result"
    }
   ],
   "source": [
    "df.head(3)"
   ]
  },
  {
   "cell_type": "code",
   "execution_count": 6,
   "metadata": {},
   "outputs": [
    {
     "data": {
      "text/html": [
       "<div>\n",
       "<style scoped>\n",
       "    .dataframe tbody tr th:only-of-type {\n",
       "        vertical-align: middle;\n",
       "    }\n",
       "\n",
       "    .dataframe tbody tr th {\n",
       "        vertical-align: top;\n",
       "    }\n",
       "\n",
       "    .dataframe thead th {\n",
       "        text-align: right;\n",
       "    }\n",
       "</style>\n",
       "<table border=\"1\" class=\"dataframe\">\n",
       "  <thead>\n",
       "    <tr style=\"text-align: right;\">\n",
       "      <th></th>\n",
       "      <th>year</th>\n",
       "      <th>selling_price</th>\n",
       "      <th>km_driven</th>\n",
       "    </tr>\n",
       "  </thead>\n",
       "  <tbody>\n",
       "    <tr>\n",
       "      <th>count</th>\n",
       "      <td>50.000000</td>\n",
       "      <td>5.000000e+01</td>\n",
       "      <td>50.00000</td>\n",
       "    </tr>\n",
       "    <tr>\n",
       "      <th>mean</th>\n",
       "      <td>2013.200000</td>\n",
       "      <td>4.884600e+05</td>\n",
       "      <td>66285.76000</td>\n",
       "    </tr>\n",
       "    <tr>\n",
       "      <th>std</th>\n",
       "      <td>4.759523</td>\n",
       "      <td>4.039689e+05</td>\n",
       "      <td>45158.85196</td>\n",
       "    </tr>\n",
       "    <tr>\n",
       "      <th>min</th>\n",
       "      <td>2001.000000</td>\n",
       "      <td>4.500000e+04</td>\n",
       "      <td>2388.00000</td>\n",
       "    </tr>\n",
       "    <tr>\n",
       "      <th>25%</th>\n",
       "      <td>2011.000000</td>\n",
       "      <td>2.000000e+05</td>\n",
       "      <td>29825.00000</td>\n",
       "    </tr>\n",
       "    <tr>\n",
       "      <th>50%</th>\n",
       "      <td>2014.000000</td>\n",
       "      <td>3.950000e+05</td>\n",
       "      <td>64000.00000</td>\n",
       "    </tr>\n",
       "    <tr>\n",
       "      <th>75%</th>\n",
       "      <td>2017.000000</td>\n",
       "      <td>6.650000e+05</td>\n",
       "      <td>96750.00000</td>\n",
       "    </tr>\n",
       "    <tr>\n",
       "      <th>max</th>\n",
       "      <td>2019.000000</td>\n",
       "      <td>2.100000e+06</td>\n",
       "      <td>175000.00000</td>\n",
       "    </tr>\n",
       "  </tbody>\n",
       "</table>\n",
       "</div>"
      ],
      "text/plain": [
       "              year  selling_price     km_driven\n",
       "count    50.000000   5.000000e+01      50.00000\n",
       "mean   2013.200000   4.884600e+05   66285.76000\n",
       "std       4.759523   4.039689e+05   45158.85196\n",
       "min    2001.000000   4.500000e+04    2388.00000\n",
       "25%    2011.000000   2.000000e+05   29825.00000\n",
       "50%    2014.000000   3.950000e+05   64000.00000\n",
       "75%    2017.000000   6.650000e+05   96750.00000\n",
       "max    2019.000000   2.100000e+06  175000.00000"
      ]
     },
     "execution_count": 6,
     "metadata": {},
     "output_type": "execute_result"
    }
   ],
   "source": [
    "df.describe()"
   ]
  },
  {
   "cell_type": "code",
   "execution_count": 15,
   "metadata": {},
   "outputs": [],
   "source": [
    "def preprocess_dataframe(df):\n",
    "    # Make a copy of the dataframe to avoid modifying the original\n",
    "    df_copy = df.copy()\n",
    "\n",
    "    # Define the columns to be scaled\n",
    "    columns_to_scale = ['year', 'selling_price', 'km_driven', 'fuel']\n",
    "\n",
    "    # Encode the 'fuel' column\n",
    "    le = LabelEncoder()\n",
    "    df_copy['fuel'] = le.fit_transform(df_copy['fuel'])\n",
    "\n",
    "    # Standard scale the columns\n",
    "    scaler = StandardScaler()\n",
    "    df_copy[columns_to_scale] = scaler.fit_transform(df_copy[columns_to_scale])\n",
    "\n",
    "    return df_copy, scaler, le"
   ]
  },
  {
   "cell_type": "code",
   "execution_count": 16,
   "metadata": {},
   "outputs": [],
   "source": [
    "df2, sc, le = preprocess_dataframe(df)"
   ]
  },
  {
   "cell_type": "code",
   "execution_count": 18,
   "metadata": {},
   "outputs": [
    {
     "data": {
      "text/html": [
       "<div>\n",
       "<style scoped>\n",
       "    .dataframe tbody tr th:only-of-type {\n",
       "        vertical-align: middle;\n",
       "    }\n",
       "\n",
       "    .dataframe tbody tr th {\n",
       "        vertical-align: top;\n",
       "    }\n",
       "\n",
       "    .dataframe thead th {\n",
       "        text-align: right;\n",
       "    }\n",
       "</style>\n",
       "<table border=\"1\" class=\"dataframe\">\n",
       "  <thead>\n",
       "    <tr style=\"text-align: right;\">\n",
       "      <th></th>\n",
       "      <th>name</th>\n",
       "      <th>year</th>\n",
       "      <th>selling_price</th>\n",
       "      <th>km_driven</th>\n",
       "      <th>fuel</th>\n",
       "    </tr>\n",
       "  </thead>\n",
       "  <tbody>\n",
       "    <tr>\n",
       "      <th>0</th>\n",
       "      <td>Maruti Swift Dzire VDI</td>\n",
       "      <td>0.169791</td>\n",
       "      <td>-0.096172</td>\n",
       "      <td>1.771933</td>\n",
       "      <td>-1.020589</td>\n",
       "    </tr>\n",
       "    <tr>\n",
       "      <th>1</th>\n",
       "      <td>Skoda Rapid 1.5 TDI Ambition</td>\n",
       "      <td>0.169791</td>\n",
       "      <td>-0.296217</td>\n",
       "      <td>1.201527</td>\n",
       "      <td>-1.020589</td>\n",
       "    </tr>\n",
       "    <tr>\n",
       "      <th>2</th>\n",
       "      <td>Honda City 2017-2020 EXi</td>\n",
       "      <td>-1.528115</td>\n",
       "      <td>-0.826338</td>\n",
       "      <td>1.648904</td>\n",
       "      <td>0.942082</td>\n",
       "    </tr>\n",
       "    <tr>\n",
       "      <th>3</th>\n",
       "      <td>Hyundai i20 Sportz Diesel</td>\n",
       "      <td>-0.679162</td>\n",
       "      <td>-0.658800</td>\n",
       "      <td>1.358109</td>\n",
       "      <td>-1.020589</td>\n",
       "    </tr>\n",
       "    <tr>\n",
       "      <th>4</th>\n",
       "      <td>Maruti Swift VXI BSIII</td>\n",
       "      <td>-1.315877</td>\n",
       "      <td>-0.896354</td>\n",
       "      <td>1.201527</td>\n",
       "      <td>0.942082</td>\n",
       "    </tr>\n",
       "  </tbody>\n",
       "</table>\n",
       "</div>"
      ],
      "text/plain": [
       "                           name      year  selling_price  km_driven      fuel\n",
       "0        Maruti Swift Dzire VDI  0.169791      -0.096172   1.771933 -1.020589\n",
       "1  Skoda Rapid 1.5 TDI Ambition  0.169791      -0.296217   1.201527 -1.020589\n",
       "2      Honda City 2017-2020 EXi -1.528115      -0.826338   1.648904  0.942082\n",
       "3     Hyundai i20 Sportz Diesel -0.679162      -0.658800   1.358109 -1.020589\n",
       "4        Maruti Swift VXI BSIII -1.315877      -0.896354   1.201527  0.942082"
      ]
     },
     "execution_count": 18,
     "metadata": {},
     "output_type": "execute_result"
    }
   ],
   "source": [
    "df2.head()"
   ]
  },
  {
   "cell_type": "code",
   "execution_count": 19,
   "metadata": {},
   "outputs": [],
   "source": [
    "df2[\"vec\"] = np.zeros(len(df2.index))"
   ]
  },
  {
   "cell_type": "code",
   "execution_count": 27,
   "metadata": {},
   "outputs": [],
   "source": [
    "def vec(row):\n",
    "    return [row[\"year\"],row[\"selling_price\"],row[\"km_driven\"],row[\"fuel\"]]"
   ]
  },
  {
   "cell_type": "code",
   "execution_count": 28,
   "metadata": {},
   "outputs": [],
   "source": [
    "df2[\"vec\"] = df2.apply(vec, axis=1)"
   ]
  },
  {
   "cell_type": "code",
   "execution_count": 30,
   "metadata": {},
   "outputs": [],
   "source": [
    "r = redis.Redis(\n",
    "  host='redis-13948.c250.eu-central-1-1.ec2.cloud.redislabs.com',\n",
    "  port=13948,\n",
    "  password='M6qC8uehk3e54Kx')"
   ]
  },
  {
   "cell_type": "code",
   "execution_count": null,
   "metadata": {},
   "outputs": [],
   "source": [
    "r = redis.Redis(\n",
    "  host='localhost',\n",
    "  port=6379)"
   ]
  },
  {
   "cell_type": "code",
   "execution_count": 34,
   "metadata": {},
   "outputs": [],
   "source": [
    "def list_to_binary_floats(float_list):\n",
    "    # float_list = ast.literal_eval(float_list)\n",
    "    \"\"\"Converts a list of floats into a packed binary representation.\"\"\"\n",
    "    return np.array(float_list, dtype=np.float32).tobytes()"
   ]
  },
  {
   "cell_type": "code",
   "execution_count": 35,
   "metadata": {},
   "outputs": [],
   "source": [
    "# pushes the df to redis\n",
    "for i,row in df2.iterrows():\n",
    "    r.hset(f\"vehicule:{i}\", mapping={\"vector\":list_to_binary_floats(row['vec'])})"
   ]
  },
  {
   "cell_type": "code",
   "execution_count": 36,
   "metadata": {},
   "outputs": [],
   "source": [
    "# function to perform a redis search, taking in a list of floats as input\n",
    "def redis_search(float_list):\n",
    "    float_list = list_to_binary_floats(float_list)\n",
    "\n",
    "    query = (\n",
    "        Query(\"*=>[KNN 2 @vector $vec as score]\")\n",
    "        .sort_by(\"score\")\n",
    "        .return_fields(\"score\")\n",
    "        .paging(0, 5)\n",
    "        .dialect(2)\n",
    "    )\n",
    "\n",
    "    query_params = {\n",
    "        \"vec\": float_list\n",
    "    }\n",
    "    \n",
    "    return r.ft(\"idx1\").search(query, query_params).docs"
   ]
  },
  {
   "cell_type": "code",
   "execution_count": 43,
   "metadata": {},
   "outputs": [
    {
     "data": {
      "text/plain": [
       "[Document {'id': 'vehicule:17', 'payload': None, 'score': '0'},\n",
       " Document {'id': 'vehicule:39', 'payload': None, 'score': '0.104735270143'}]"
      ]
     },
     "execution_count": 43,
     "metadata": {},
     "output_type": "execute_result"
    }
   ],
   "source": [
    "redis_search(df2.iloc[17,5])"
   ]
  },
  {
   "cell_type": "code",
   "execution_count": 44,
   "metadata": {},
   "outputs": [
    {
     "name": "stdout",
     "output_type": "stream",
     "text": [
      "name             Hyundai i20 1.4 CRDi Asta\n",
      "year                                  2012\n",
      "selling_price                       500000\n",
      "km_driven                            53000\n",
      "fuel                                Diesel\n",
      "Name: 17, dtype: object\n",
      "-------------------\n",
      "name             Tata Safari DICOR 2.2 LX 4x2\n",
      "year                                     2011\n",
      "selling_price                          425000\n",
      "km_driven                               60000\n",
      "fuel                                   Diesel\n",
      "Name: 39, dtype: object\n"
     ]
    }
   ],
   "source": [
    "print(df.iloc[17,:])\n",
    "print(\"-------------------\")\n",
    "print(df.iloc[39,:])"
   ]
  },
  {
   "cell_type": "code",
   "execution_count": 13,
   "metadata": {},
   "outputs": [],
   "source": [
    "def delete_keys_with_prefix(prefix):\n",
    "    \"\"\"Delete all keys with the given prefix.\"\"\"\n",
    "    cursor = '0'\n",
    "    while cursor != 0:\n",
    "        cursor, keys = r.scan(cursor=cursor, match=f\"{prefix}*\")\n",
    "        for key in keys:\n",
    "            r.delete(key)"
   ]
  },
  {
   "cell_type": "code",
   "execution_count": 14,
   "metadata": {},
   "outputs": [],
   "source": [
    "delete_keys_with_prefix(\"vehicule:\")"
   ]
  }
 ],
 "metadata": {
  "kernelspec": {
   "display_name": "Python 3",
   "language": "python",
   "name": "python3"
  },
  "language_info": {
   "codemirror_mode": {
    "name": "ipython",
    "version": 3
   },
   "file_extension": ".py",
   "mimetype": "text/x-python",
   "name": "python",
   "nbconvert_exporter": "python",
   "pygments_lexer": "ipython3",
   "version": "3.11.3"
  },
  "orig_nbformat": 4
 },
 "nbformat": 4,
 "nbformat_minor": 2
}
